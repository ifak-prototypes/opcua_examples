{
 "cells": [
  {
   "attachments": {},
   "cell_type": "markdown",
   "metadata": {},
   "source": [
    "# Example-Visualization\n",
    "\n",
    "Client received:"
   ]
  },
  {
   "cell_type": "code",
   "execution_count": null,
   "metadata": {
    "slideshow": {
     "slide_type": "slide"
    }
   },
   "outputs": [],
   "source": [
    "from IPython.display import clear_output\n",
    "from matplotlib import pyplot as plt\n",
    "from opcua import Client\n",
    "import time\n",
    "\n",
    "# client\n",
    "from opcua import Client\n",
    "\n",
    "namespace = \"http://www.ifak.eu/opcua/test-api\"\n",
    "server_url = \"opc.tcp://localhost:4840/freeopcua/server/\"\n",
    "client = Client(server_url)\n",
    "\n",
    "plt.ion()\n",
    "plt.show()\n",
    "x = []\n",
    "\n",
    "try:\n",
    "    while True:\n",
    "        client.connect()\n",
    "        idx = str(client.get_namespace_index(namespace))\n",
    "        objects = client.get_objects_node()\n",
    "        x = objects.get_child([idx+\":MyObject\", idx+\":MyVariable\"]).get_value()\n",
    "        clear_output(wait=True)\n",
    "        plt.plot(x[-20:])\n",
    "        plt.show()\n",
    "        time.sleep(1)\n",
    "finally:\n",
    "    client.disconnect()"
   ]
  }
 ],
 "metadata": {
  "kernelspec": {
   "display_name": "Python 3",
   "language": "python",
   "name": "python3"
  },
  "language_info": {
   "codemirror_mode": {
    "name": "ipython",
    "version": 3
   },
   "file_extension": ".py",
   "mimetype": "text/x-python",
   "name": "python",
   "nbconvert_exporter": "python",
   "pygments_lexer": "ipython3",
   "version": "3.10.6"
  },
  "orig_nbformat": 4,
  "vscode": {
   "interpreter": {
    "hash": "e7370f93d1d0cde622a1f8e1c04877d8463912d04d973331ad4851f04de6915a"
   }
  }
 },
 "nbformat": 4,
 "nbformat_minor": 2
}
