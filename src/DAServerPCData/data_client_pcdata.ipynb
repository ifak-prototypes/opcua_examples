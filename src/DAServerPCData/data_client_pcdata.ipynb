{
 "cells": [
  {
   "attachments": {},
   "cell_type": "markdown",
   "metadata": {},
   "source": [
    "# Server Data\n",
    "\n",
    "Client received:"
   ]
  },
  {
   "cell_type": "code",
   "execution_count": null,
   "metadata": {
    "slideshow": {
     "slide_type": "slide"
    }
   },
   "outputs": [],
   "source": [
    "import datetime\n",
    "from IPython.display import clear_output\n",
    "from matplotlib import pyplot as plt\n",
    "import time\n",
    "\n",
    "# client\n",
    "from opcua import ua, Client\n",
    "\n",
    "namespace = \"http://www.ifak.eu/opcua/test-api\"\n",
    "server_url = \"opc.tcp://localhost:4840/freeopcua/server/\"\n",
    "client = Client(server_url)\n",
    "\n",
    "plt.show()\n",
    "\n",
    "try:\n",
    "    while True:\n",
    "        time.sleep(1)\n",
    "\n",
    "        client.connect()\n",
    "        idx = str(client.get_namespace_index(namespace))\n",
    "        objects = client.get_objects_node()\n",
    "\n",
    "        # get node history\n",
    "        server_cpu = objects.get_child(\n",
    "            [idx+\":PCData\", idx+\":CPU\"]\n",
    "            ).read_raw_history()\n",
    "        server_ram = objects.get_child(\n",
    "            [idx+\":PCData\", idx+\":RAM\"]\n",
    "            ).read_raw_history()\n",
    "        server_battery = objects.get_child(\n",
    "            [idx+\":PCData\", idx+\":Battery\"]\n",
    "            ).read_raw_history()\n",
    "\n",
    "        # clear old output\n",
    "        clear_output(wait=True)\n",
    "\n",
    "        # plot values\n",
    "        plt.plot(\n",
    "            [datapoint.Value._value for datapoint in server_cpu],\n",
    "            label=\"CPU\")\n",
    "        plt.plot(\n",
    "            [datapoint.Value._value for datapoint in server_ram],\n",
    "            label=\"RAM\")\n",
    "        plt.plot(\n",
    "            [datapoint.Value._value for datapoint in server_battery],\n",
    "            label=\"Battery\")\n",
    "        plt.ylabel('Usage %')\n",
    "        plt.xticks([])\n",
    "        plt.xlabel('Time ago')\n",
    "        plt.legend(loc='upper center')\n",
    "        plt.show()\n",
    "finally:\n",
    "    client.disconnect()"
   ]
  }
 ],
 "metadata": {
  "kernelspec": {
   "display_name": "Python 3",
   "language": "python",
   "name": "python3"
  },
  "language_info": {
   "codemirror_mode": {
    "name": "ipython",
    "version": 3
   },
   "file_extension": ".py",
   "mimetype": "text/x-python",
   "name": "python",
   "nbconvert_exporter": "python",
   "pygments_lexer": "ipython3",
   "version": "3.10.6"
  },
  "orig_nbformat": 4,
  "vscode": {
   "interpreter": {
    "hash": "e7370f93d1d0cde622a1f8e1c04877d8463912d04d973331ad4851f04de6915a"
   }
  }
 },
 "nbformat": 4,
 "nbformat_minor": 2
}
